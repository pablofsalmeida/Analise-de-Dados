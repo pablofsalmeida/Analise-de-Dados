{
 "cells": [
  {
   "cell_type": "markdown",
   "id": "ab254e55",
   "metadata": {},
   "source": [
    "VARIÁVEIS"
   ]
  },
  {
   "cell_type": "code",
   "execution_count": 2,
   "id": "382924b0",
   "metadata": {},
   "outputs": [
    {
     "name": "stdout",
     "output_type": "stream",
     "text": [
      "O vendedor Pablo realizou 1800 vendas neste mês.\n"
     ]
    }
   ],
   "source": [
    "qtde_vendas = 1800\n",
    "nome = \"Pablo\"\n",
    "\n",
    "print(\"O vendedor \" + nome + \" realizou \" + str(qtde_vendas) + \" vendas neste mês.\")"
   ]
  },
  {
   "cell_type": "code",
   "execution_count": null,
   "id": "967aed1f",
   "metadata": {},
   "outputs": [],
   "source": []
  }
 ],
 "metadata": {
  "kernelspec": {
   "display_name": "Python 3",
   "language": "python",
   "name": "python3"
  },
  "language_info": {
   "codemirror_mode": {
    "name": "ipython",
    "version": 3
   },
   "file_extension": ".py",
   "mimetype": "text/x-python",
   "name": "python",
   "nbconvert_exporter": "python",
   "pygments_lexer": "ipython3",
   "version": "3.13.7"
  }
 },
 "nbformat": 4,
 "nbformat_minor": 5
}
